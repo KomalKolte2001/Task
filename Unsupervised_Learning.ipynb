{
  "cells": [
    {
      "cell_type": "markdown",
      "metadata": {
        "id": "view-in-github",
        "colab_type": "text"
      },
      "source": [
        "<a href=\"https://colab.research.google.com/github/KomalKolte2001/Task/blob/main/Unsupervised_Learning.ipynb\" target=\"_parent\"><img src=\"https://colab.research.google.com/assets/colab-badge.svg\" alt=\"Open In Colab\"/></a>"
      ]
    },
    {
      "cell_type": "markdown",
      "metadata": {
        "id": "ucbuh4UGtA7s"
      },
      "source": [
        "# Unsupervised Learning"
      ]
    },
    {
      "cell_type": "markdown",
      "metadata": {
        "id": "s4iLDAwjtA7u"
      },
      "source": [
        "### Importing Library like Numpy,Panda and Matplotlib"
      ]
    },
    {
      "cell_type": "code",
      "execution_count": null,
      "metadata": {
        "pycharm": {
          "name": "#%%\n"
        },
        "id": "PdlqitKUtA7u"
      },
      "outputs": [],
      "source": [
        "import numpy as np\n",
        "import pandas as pd\n",
        "import matplotlib.pyplot as plt\n",
        "import random"
      ]
    },
    {
      "cell_type": "markdown",
      "metadata": {
        "id": "J40Pov4GtA7v"
      },
      "source": [
        "### Get the Dataset where it is Recently present ie. Read the csv file using Pandas library"
      ]
    },
    {
      "cell_type": "code",
      "execution_count": null,
      "metadata": {
        "pycharm": {
          "name": "#%%\n"
        },
        "id": "rDcfdq0DtA7v"
      },
      "outputs": [],
      "source": [
        "Dataset_Path = \"Iris.csv\""
      ]
    },
    {
      "cell_type": "code",
      "execution_count": null,
      "metadata": {
        "pycharm": {
          "name": "#%%\n"
        },
        "id": "rCIOgsL0tA7w",
        "outputId": "860953af-0e21-4e74-a59b-60bb1fd711d9"
      },
      "outputs": [
        {
          "data": {
            "text/html": [
              "<div>\n",
              "<style scoped>\n",
              "    .dataframe tbody tr th:only-of-type {\n",
              "        vertical-align: middle;\n",
              "    }\n",
              "\n",
              "    .dataframe tbody tr th {\n",
              "        vertical-align: top;\n",
              "    }\n",
              "\n",
              "    .dataframe thead th {\n",
              "        text-align: right;\n",
              "    }\n",
              "</style>\n",
              "<table border=\"1\" class=\"dataframe\">\n",
              "  <thead>\n",
              "    <tr style=\"text-align: right;\">\n",
              "      <th></th>\n",
              "      <th>Id</th>\n",
              "      <th>SepalLengthCm</th>\n",
              "      <th>SepalWidthCm</th>\n",
              "      <th>PetalLengthCm</th>\n",
              "      <th>PetalWidthCm</th>\n",
              "      <th>Species</th>\n",
              "    </tr>\n",
              "  </thead>\n",
              "  <tbody>\n",
              "    <tr>\n",
              "      <th>0</th>\n",
              "      <td>1</td>\n",
              "      <td>5.1</td>\n",
              "      <td>3.5</td>\n",
              "      <td>1.4</td>\n",
              "      <td>0.2</td>\n",
              "      <td>Iris-setosa</td>\n",
              "    </tr>\n",
              "    <tr>\n",
              "      <th>1</th>\n",
              "      <td>2</td>\n",
              "      <td>4.9</td>\n",
              "      <td>3.0</td>\n",
              "      <td>1.4</td>\n",
              "      <td>0.2</td>\n",
              "      <td>Iris-setosa</td>\n",
              "    </tr>\n",
              "    <tr>\n",
              "      <th>2</th>\n",
              "      <td>3</td>\n",
              "      <td>4.7</td>\n",
              "      <td>3.2</td>\n",
              "      <td>1.3</td>\n",
              "      <td>0.2</td>\n",
              "      <td>Iris-setosa</td>\n",
              "    </tr>\n",
              "    <tr>\n",
              "      <th>3</th>\n",
              "      <td>4</td>\n",
              "      <td>4.6</td>\n",
              "      <td>3.1</td>\n",
              "      <td>1.5</td>\n",
              "      <td>0.2</td>\n",
              "      <td>Iris-setosa</td>\n",
              "    </tr>\n",
              "    <tr>\n",
              "      <th>4</th>\n",
              "      <td>5</td>\n",
              "      <td>5.0</td>\n",
              "      <td>3.6</td>\n",
              "      <td>1.4</td>\n",
              "      <td>0.2</td>\n",
              "      <td>Iris-setosa</td>\n",
              "    </tr>\n",
              "    <tr>\n",
              "      <th>...</th>\n",
              "      <td>...</td>\n",
              "      <td>...</td>\n",
              "      <td>...</td>\n",
              "      <td>...</td>\n",
              "      <td>...</td>\n",
              "      <td>...</td>\n",
              "    </tr>\n",
              "    <tr>\n",
              "      <th>145</th>\n",
              "      <td>146</td>\n",
              "      <td>6.7</td>\n",
              "      <td>3.0</td>\n",
              "      <td>5.2</td>\n",
              "      <td>2.3</td>\n",
              "      <td>Iris-virginica</td>\n",
              "    </tr>\n",
              "    <tr>\n",
              "      <th>146</th>\n",
              "      <td>147</td>\n",
              "      <td>6.3</td>\n",
              "      <td>2.5</td>\n",
              "      <td>5.0</td>\n",
              "      <td>1.9</td>\n",
              "      <td>Iris-virginica</td>\n",
              "    </tr>\n",
              "    <tr>\n",
              "      <th>147</th>\n",
              "      <td>148</td>\n",
              "      <td>6.5</td>\n",
              "      <td>3.0</td>\n",
              "      <td>5.2</td>\n",
              "      <td>2.0</td>\n",
              "      <td>Iris-virginica</td>\n",
              "    </tr>\n",
              "    <tr>\n",
              "      <th>148</th>\n",
              "      <td>149</td>\n",
              "      <td>6.2</td>\n",
              "      <td>3.4</td>\n",
              "      <td>5.4</td>\n",
              "      <td>2.3</td>\n",
              "      <td>Iris-virginica</td>\n",
              "    </tr>\n",
              "    <tr>\n",
              "      <th>149</th>\n",
              "      <td>150</td>\n",
              "      <td>5.9</td>\n",
              "      <td>3.0</td>\n",
              "      <td>5.1</td>\n",
              "      <td>1.8</td>\n",
              "      <td>Iris-virginica</td>\n",
              "    </tr>\n",
              "  </tbody>\n",
              "</table>\n",
              "<p>150 rows × 6 columns</p>\n",
              "</div>"
            ],
            "text/plain": [
              "      Id  SepalLengthCm  SepalWidthCm  PetalLengthCm  PetalWidthCm  \\\n",
              "0      1            5.1           3.5            1.4           0.2   \n",
              "1      2            4.9           3.0            1.4           0.2   \n",
              "2      3            4.7           3.2            1.3           0.2   \n",
              "3      4            4.6           3.1            1.5           0.2   \n",
              "4      5            5.0           3.6            1.4           0.2   \n",
              "..   ...            ...           ...            ...           ...   \n",
              "145  146            6.7           3.0            5.2           2.3   \n",
              "146  147            6.3           2.5            5.0           1.9   \n",
              "147  148            6.5           3.0            5.2           2.0   \n",
              "148  149            6.2           3.4            5.4           2.3   \n",
              "149  150            5.9           3.0            5.1           1.8   \n",
              "\n",
              "            Species  \n",
              "0       Iris-setosa  \n",
              "1       Iris-setosa  \n",
              "2       Iris-setosa  \n",
              "3       Iris-setosa  \n",
              "4       Iris-setosa  \n",
              "..              ...  \n",
              "145  Iris-virginica  \n",
              "146  Iris-virginica  \n",
              "147  Iris-virginica  \n",
              "148  Iris-virginica  \n",
              "149  Iris-virginica  \n",
              "\n",
              "[150 rows x 6 columns]"
            ]
          },
          "execution_count": 3,
          "metadata": {},
          "output_type": "execute_result"
        }
      ],
      "source": [
        "dataset = pd.read_csv(Dataset_Path)\n",
        "dataset"
      ]
    },
    {
      "cell_type": "code",
      "execution_count": null,
      "metadata": {
        "scrolled": true,
        "id": "6hcX-mOWtA7w",
        "outputId": "a0902ae4-489b-464f-a4af-943fcbc1a06a"
      },
      "outputs": [
        {
          "data": {
            "text/plain": [
              "(150, 6)"
            ]
          },
          "execution_count": 4,
          "metadata": {},
          "output_type": "execute_result"
        }
      ],
      "source": [
        "dataset.shape"
      ]
    },
    {
      "cell_type": "markdown",
      "metadata": {
        "id": "nsmLBpsJtA7w"
      },
      "source": [
        "### Delete the Last column from the dataset and Pre-procesing of new dataset"
      ]
    },
    {
      "cell_type": "code",
      "execution_count": null,
      "metadata": {
        "pycharm": {
          "name": "#%%\n"
        },
        "id": "excW29EWtA7x"
      },
      "outputs": [],
      "source": [
        "x = dataset.iloc[:, :5]"
      ]
    },
    {
      "cell_type": "code",
      "execution_count": null,
      "metadata": {
        "pycharm": {
          "name": "#%%\n"
        },
        "scrolled": true,
        "id": "J1oMzDfktA7x",
        "outputId": "92b28245-b6b5-4e9a-9b3d-f96a9f0244a4"
      },
      "outputs": [
        {
          "name": "stdout",
          "output_type": "stream",
          "text": [
            "      Id  SepalLengthCm  SepalWidthCm  PetalLengthCm  PetalWidthCm\n",
            "0      1            5.1           3.5            1.4           0.2\n",
            "1      2            4.9           3.0            1.4           0.2\n",
            "2      3            4.7           3.2            1.3           0.2\n",
            "3      4            4.6           3.1            1.5           0.2\n",
            "4      5            5.0           3.6            1.4           0.2\n",
            "..   ...            ...           ...            ...           ...\n",
            "145  146            6.7           3.0            5.2           2.3\n",
            "146  147            6.3           2.5            5.0           1.9\n",
            "147  148            6.5           3.0            5.2           2.0\n",
            "148  149            6.2           3.4            5.4           2.3\n",
            "149  150            5.9           3.0            5.1           1.8\n",
            "\n",
            "[150 rows x 5 columns]\n"
          ]
        }
      ],
      "source": [
        "print(x)"
      ]
    },
    {
      "cell_type": "markdown",
      "metadata": {
        "id": "2vITBZIjtA7x"
      },
      "source": [
        "### shape and columns of the Dataset"
      ]
    },
    {
      "cell_type": "code",
      "execution_count": null,
      "metadata": {
        "id": "ljyhAxWatA7x",
        "outputId": "4851beb2-2c37-49a4-cf88-4bb0ae4868a7"
      },
      "outputs": [
        {
          "data": {
            "text/plain": [
              "(150, 5)"
            ]
          },
          "execution_count": 7,
          "metadata": {},
          "output_type": "execute_result"
        }
      ],
      "source": [
        "x.shape   "
      ]
    },
    {
      "cell_type": "code",
      "execution_count": null,
      "metadata": {
        "scrolled": true,
        "id": "l99-R0e0tA7x",
        "outputId": "572387b1-0467-44b1-a3f8-8cfe7275bb4b"
      },
      "outputs": [
        {
          "data": {
            "text/plain": [
              "Index(['Id', 'SepalLengthCm', 'SepalWidthCm', 'PetalLengthCm', 'PetalWidthCm'], dtype='object')"
            ]
          },
          "execution_count": 8,
          "metadata": {},
          "output_type": "execute_result"
        }
      ],
      "source": [
        "x.columns"
      ]
    },
    {
      "cell_type": "markdown",
      "metadata": {
        "id": "scCmrthhtA7y"
      },
      "source": [
        "### Finding the Null value"
      ]
    },
    {
      "cell_type": "code",
      "execution_count": null,
      "metadata": {
        "scrolled": true,
        "id": "7Mt0t6shtA7y",
        "outputId": "d6216064-99bf-4d89-d632-d28ec48b04d8"
      },
      "outputs": [
        {
          "data": {
            "text/plain": [
              "Id               0\n",
              "SepalLengthCm    0\n",
              "SepalWidthCm     0\n",
              "PetalLengthCm    0\n",
              "PetalWidthCm     0\n",
              "dtype: int64"
            ]
          },
          "execution_count": 9,
          "metadata": {},
          "output_type": "execute_result"
        }
      ],
      "source": [
        "x.isnull().sum()   "
      ]
    },
    {
      "cell_type": "markdown",
      "metadata": {
        "id": "KUVpL2SMtA7y"
      },
      "source": [
        "### mathematical description of the dataset"
      ]
    },
    {
      "cell_type": "code",
      "execution_count": null,
      "metadata": {
        "scrolled": false,
        "id": "HwWv75lGtA7y",
        "outputId": "4fbd8935-3938-45c2-8587-f8f53e3393b7"
      },
      "outputs": [
        {
          "data": {
            "text/html": [
              "<div>\n",
              "<style scoped>\n",
              "    .dataframe tbody tr th:only-of-type {\n",
              "        vertical-align: middle;\n",
              "    }\n",
              "\n",
              "    .dataframe tbody tr th {\n",
              "        vertical-align: top;\n",
              "    }\n",
              "\n",
              "    .dataframe thead th {\n",
              "        text-align: right;\n",
              "    }\n",
              "</style>\n",
              "<table border=\"1\" class=\"dataframe\">\n",
              "  <thead>\n",
              "    <tr style=\"text-align: right;\">\n",
              "      <th></th>\n",
              "      <th>Id</th>\n",
              "      <th>SepalLengthCm</th>\n",
              "      <th>SepalWidthCm</th>\n",
              "      <th>PetalLengthCm</th>\n",
              "      <th>PetalWidthCm</th>\n",
              "    </tr>\n",
              "  </thead>\n",
              "  <tbody>\n",
              "    <tr>\n",
              "      <th>count</th>\n",
              "      <td>150.000000</td>\n",
              "      <td>150.000000</td>\n",
              "      <td>150.000000</td>\n",
              "      <td>150.000000</td>\n",
              "      <td>150.000000</td>\n",
              "    </tr>\n",
              "    <tr>\n",
              "      <th>mean</th>\n",
              "      <td>75.500000</td>\n",
              "      <td>5.843333</td>\n",
              "      <td>3.054000</td>\n",
              "      <td>3.758667</td>\n",
              "      <td>1.198667</td>\n",
              "    </tr>\n",
              "    <tr>\n",
              "      <th>std</th>\n",
              "      <td>43.445368</td>\n",
              "      <td>0.828066</td>\n",
              "      <td>0.433594</td>\n",
              "      <td>1.764420</td>\n",
              "      <td>0.763161</td>\n",
              "    </tr>\n",
              "    <tr>\n",
              "      <th>min</th>\n",
              "      <td>1.000000</td>\n",
              "      <td>4.300000</td>\n",
              "      <td>2.000000</td>\n",
              "      <td>1.000000</td>\n",
              "      <td>0.100000</td>\n",
              "    </tr>\n",
              "    <tr>\n",
              "      <th>25%</th>\n",
              "      <td>38.250000</td>\n",
              "      <td>5.100000</td>\n",
              "      <td>2.800000</td>\n",
              "      <td>1.600000</td>\n",
              "      <td>0.300000</td>\n",
              "    </tr>\n",
              "    <tr>\n",
              "      <th>50%</th>\n",
              "      <td>75.500000</td>\n",
              "      <td>5.800000</td>\n",
              "      <td>3.000000</td>\n",
              "      <td>4.350000</td>\n",
              "      <td>1.300000</td>\n",
              "    </tr>\n",
              "    <tr>\n",
              "      <th>75%</th>\n",
              "      <td>112.750000</td>\n",
              "      <td>6.400000</td>\n",
              "      <td>3.300000</td>\n",
              "      <td>5.100000</td>\n",
              "      <td>1.800000</td>\n",
              "    </tr>\n",
              "    <tr>\n",
              "      <th>max</th>\n",
              "      <td>150.000000</td>\n",
              "      <td>7.900000</td>\n",
              "      <td>4.400000</td>\n",
              "      <td>6.900000</td>\n",
              "      <td>2.500000</td>\n",
              "    </tr>\n",
              "  </tbody>\n",
              "</table>\n",
              "</div>"
            ],
            "text/plain": [
              "               Id  SepalLengthCm  SepalWidthCm  PetalLengthCm  PetalWidthCm\n",
              "count  150.000000     150.000000    150.000000     150.000000    150.000000\n",
              "mean    75.500000       5.843333      3.054000       3.758667      1.198667\n",
              "std     43.445368       0.828066      0.433594       1.764420      0.763161\n",
              "min      1.000000       4.300000      2.000000       1.000000      0.100000\n",
              "25%     38.250000       5.100000      2.800000       1.600000      0.300000\n",
              "50%     75.500000       5.800000      3.000000       4.350000      1.300000\n",
              "75%    112.750000       6.400000      3.300000       5.100000      1.800000\n",
              "max    150.000000       7.900000      4.400000       6.900000      2.500000"
            ]
          },
          "execution_count": 10,
          "metadata": {},
          "output_type": "execute_result"
        }
      ],
      "source": [
        "x.describe()    "
      ]
    },
    {
      "cell_type": "code",
      "execution_count": null,
      "metadata": {
        "id": "euIpxAk9tA7y",
        "outputId": "4a56114d-4848-462f-d827-a03064507842"
      },
      "outputs": [
        {
          "name": "stdout",
          "output_type": "stream",
          "text": [
            "<class 'pandas.core.frame.DataFrame'>\n",
            "RangeIndex: 150 entries, 0 to 149\n",
            "Data columns (total 5 columns):\n",
            " #   Column         Non-Null Count  Dtype  \n",
            "---  ------         --------------  -----  \n",
            " 0   Id             150 non-null    int64  \n",
            " 1   SepalLengthCm  150 non-null    float64\n",
            " 2   SepalWidthCm   150 non-null    float64\n",
            " 3   PetalLengthCm  150 non-null    float64\n",
            " 4   PetalWidthCm   150 non-null    float64\n",
            "dtypes: float64(4), int64(1)\n",
            "memory usage: 6.0 KB\n"
          ]
        }
      ],
      "source": [
        "x.info()"
      ]
    },
    {
      "cell_type": "markdown",
      "metadata": {
        "id": "oqgxRyUXtA7y"
      },
      "source": [
        "### To normalize the dataset"
      ]
    },
    {
      "cell_type": "code",
      "execution_count": null,
      "metadata": {
        "id": "TqfLc1FCtA7z"
      },
      "outputs": [],
      "source": [
        "def normalize_dataset(dataset):\n",
        "    return (dataset - dataset.mean(axis=0)) / dataset.std(axis=0)\n"
      ]
    },
    {
      "cell_type": "code",
      "execution_count": null,
      "metadata": {
        "id": "pyglp7GNtA7z"
      },
      "outputs": [],
      "source": [
        "x = normalize_dataset(x)"
      ]
    },
    {
      "cell_type": "markdown",
      "metadata": {
        "id": "3-_4g4tCtA7z"
      },
      "source": [
        "### Ploting boxplot of the dataset"
      ]
    },
    {
      "cell_type": "code",
      "execution_count": null,
      "metadata": {
        "scrolled": true,
        "id": "91ndQWtRtA7z",
        "outputId": "b8b9cb2a-d0c4-42ff-9dd8-c31b18736bea"
      },
      "outputs": [
        {
          "data": {
            "image/png": "[encoded data removed]",
            "text/plain": [
              "<Figure size 432x288 with 1 Axes>"
            ]
          },
          "metadata": {
            "needs_background": "light"
          },
          "output_type": "display_data"
        }
      ],
      "source": [
        "plt.boxplot(x)\n",
        "plt.show()"
      ]
    },
    {
      "cell_type": "markdown",
      "metadata": {
        "id": "NklfoAw7tA7z"
      },
      "source": [
        "### PCA Implementation"
      ]
    },
    {
      "cell_type": "code",
      "execution_count": null,
      "metadata": {
        "pycharm": {
          "name": "#%%\n"
        },
        "id": "1LPHg8b7tA70"
      },
      "outputs": [],
      "source": [
        "def PCA(data, n_comps):\n",
        "    data = np.array(data)\n",
        "\n",
        "    # Creating the mean vector\n",
        "    mean_vector = np.mean(data, axis=0)\n",
        "\n",
        "    # The Convariance matrix:\n",
        "    conv_matrix = np.cov(data - mean_vector, rowvar=False)\n",
        "\n",
        "    # Getting the eigenVectors\n",
        "    eig_value, eig_vector = np.linalg.eig(conv_matrix)\n",
        "\n",
        "    # Sort the Eigen Values in descending order\n",
        "    eig_value = np.argsort(-eig_value)\n",
        "\n",
        "    # Select the top \"n_comps\" from the list\n",
        "    eig_ValueTopN = eig_value[:n_comps]\n",
        "\n",
        "    Final_Data = eig_vector[:, eig_ValueTopN]\n",
        "\n",
        "    Final_Data = np.dot(data, Final_Data)\n",
        "\n",
        "    return eig_value, Final_Data"
      ]
    },
    {
      "cell_type": "code",
      "execution_count": null,
      "metadata": {
        "pycharm": {
          "name": "#%%\n"
        },
        "id": "bnl2SgWjtA70"
      },
      "outputs": [],
      "source": [
        "eig_Values, PCAdata = PCA(x, 3)"
      ]
    },
    {
      "cell_type": "code",
      "execution_count": null,
      "metadata": {
        "id": "zlZzVw5ntA70",
        "outputId": "6b116603-6d7c-497e-87fb-b25f560f93e1"
      },
      "outputs": [
        {
          "name": "stdout",
          "output_type": "stream",
          "text": [
            "Eigen Values: [0 1 2 3 4]\n"
          ]
        }
      ],
      "source": [
        "print('Eigen Values:', eig_Values)"
      ]
    },
    {
      "cell_type": "code",
      "execution_count": null,
      "metadata": {
        "scrolled": false,
        "id": "C6npu6t3tA70",
        "outputId": "05c8c01b-bfe2-4a06-a2b9-d02a8cbbba93"
      },
      "outputs": [
        {
          "name": "stdout",
          "output_type": "stream",
          "text": [
            "PCAdata: [[ 2.80693543e+00  5.04360986e-01  3.67918222e-01]\n",
            " [ 2.63669428e+00 -6.49623081e-01  5.12852539e-01]\n",
            " [ 2.86986634e+00 -3.19963951e-01  2.07486367e-01]\n",
            " [ 2.80154900e+00 -5.75435445e-01  1.92316536e-01]\n",
            " [ 2.87026785e+00  6.68229014e-01  1.64683001e-01]\n",
            " [ 2.58451761e+00  1.51374801e+00  2.43446732e-01]\n",
            " [ 2.89190339e+00  6.74846155e-02 -7.65667392e-02]\n",
            " [ 2.70108967e+00  2.44004697e-01  2.52153577e-01]\n",
            " [ 2.77642317e+00 -1.09666299e+00  7.79162845e-02]\n",
            " [ 2.63844279e+00 -4.49511705e-01  3.58040182e-01]\n",
            " [ 2.61171000e+00  1.06396852e+00  3.27505932e-01]\n",
            " [ 2.73613399e+00  1.51182211e-01  4.17609099e-02]\n",
            " [ 2.63481483e+00 -7.11258667e-01  2.89330935e-01]\n",
            " [ 2.98136522e+00 -9.48186596e-01 -1.38279019e-01]\n",
            " [ 2.59809936e+00  1.87818056e+00  3.64834184e-01]\n",
            " [ 2.63662530e+00  2.70472140e+00 -9.24472947e-03]\n",
            " [ 2.57843955e+00  1.50101670e+00  4.27665587e-02]\n",
            " [ 2.55274051e+00  5.05098239e-01  7.90938616e-02]\n",
            " [ 2.29035893e+00  1.42380799e+00  3.63819974e-01]\n",
            " [ 2.66211604e+00  1.14238753e+00 -1.34204220e-01]\n",
            " [ 2.28252979e+00  4.25623144e-01  3.77129033e-01]\n",
            " [ 2.52062130e+00  9.38782034e-01 -1.27042074e-01]\n",
            " [ 3.00325722e+00  4.66891013e-01 -4.56273051e-01]\n",
            " [ 2.16074301e+00  1.02067981e-01  8.48963131e-02]\n",
            " [ 2.50524963e+00  1.49602444e-01 -1.37429385e-01]\n",
            " [ 2.25872690e+00 -6.12470826e-01  2.33408030e-01]\n",
            " [ 2.32994526e+00  2.55077138e-01 -8.52625027e-02]\n",
            " [ 2.42467862e+00  5.38199493e-01  3.44248406e-02]\n",
            " [ 2.38905371e+00  3.23735125e-01  7.46633912e-02]\n",
            " [ 2.48386666e+00 -3.28875270e-01 -1.88918326e-01]\n",
            " [ 2.36513592e+00 -4.95361709e-01 -6.32596754e-02]\n",
            " [ 2.08687140e+00  4.35656940e-01  1.41326678e-01]\n",
            " [ 2.75608972e+00  1.79912914e+00 -3.97628475e-01]\n",
            " [ 2.59914501e+00  2.15740628e+00 -2.75216024e-01]\n",
            " [ 2.36145115e+00 -4.62603763e-01 -2.98426708e-02]\n",
            " [ 2.37071811e+00 -2.00282482e-01 -7.82704182e-02]\n",
            " [ 2.22039194e+00  6.68706636e-01  1.13532665e-01]\n",
            " [ 2.32821215e+00 -4.64174810e-01 -7.63886131e-02]\n",
            " [ 2.52647757e+00 -9.01918171e-01 -4.58302863e-01]\n",
            " [ 2.29238409e+00  2.73482091e-01 -1.66419305e-01]\n",
            " [ 2.38101404e+00  4.45075616e-01 -3.63178463e-01]\n",
            " [ 1.99877806e+00 -2.33300004e+00 -9.19809546e-03]\n",
            " [ 2.58914852e+00 -4.79616930e-01 -6.46877708e-01]\n",
            " [ 2.06340455e+00  4.77652227e-01 -4.62407678e-01]\n",
            " [ 2.20348553e+00  1.14590613e+00 -5.17139375e-01]\n",
            " [ 2.13750466e+00 -7.09260480e-01 -2.72802472e-01]\n",
            " [ 2.39985609e+00  1.12035096e+00 -5.20550751e-01]\n",
            " [ 2.39648808e+00 -3.88022183e-01 -5.61117009e-01]\n",
            " [ 2.24483897e+00  9.97833364e-01 -3.39993174e-01]\n",
            " [ 2.21119847e+00  8.06935278e-03 -3.43735751e-01]\n",
            " [-6.81924308e-01  8.93239615e-01  1.20917756e+00]\n",
            " [-3.76007805e-01  6.21459010e-01  6.86089345e-01]\n",
            " [-8.27161904e-01  6.46884290e-01  1.15342839e+00]\n",
            " [-1.15784915e-01 -1.73348049e+00  5.35728728e-01]\n",
            " [-7.06331866e-01 -1.80926049e-01  9.77990679e-01]\n",
            " [-1.23530589e-01 -5.72353966e-01  3.81763116e-01]\n",
            " [-4.47494785e-01  7.97928610e-01  4.57280648e-01]\n",
            " [ 6.18497619e-01 -1.84190707e+00 -3.44207886e-02]\n",
            " [-6.19630799e-01  5.61327322e-02  9.80717839e-01]\n",
            " [ 1.57294101e-01 -1.01863918e+00 -7.67087944e-02]\n",
            " [ 2.59223992e-01 -2.64254943e+00  2.64983475e-01]\n",
            " [-2.36164016e-01 -4.45780303e-02  2.45355153e-01]\n",
            " [-3.42256281e-01 -1.74813503e+00  9.24125607e-01]\n",
            " [-4.99037929e-01 -1.66279270e-01  4.95994327e-01]\n",
            " [ 1.44949590e-01 -4.26788659e-01  3.34249587e-02]\n",
            " [-6.52296586e-01  5.29252606e-01  7.83444342e-01]\n",
            " [-2.15942224e-01 -1.80674025e-01 -4.34641393e-02]\n",
            " [-5.08175990e-02 -7.80491270e-01  3.81933654e-01]\n",
            " [-9.90997642e-01 -1.60189390e+00  8.99062607e-01]\n",
            " [-7.95954649e-02 -1.29225061e+00  2.81512395e-01]\n",
            " [-6.00110585e-01  4.14480562e-01 -5.09707471e-02]\n",
            " [-3.72682503e-01 -4.04505473e-01  4.07672123e-01]\n",
            " [-1.04478642e+00 -9.14188642e-01  7.55159856e-01]\n",
            " [-5.31648197e-01 -4.02993783e-01  4.54226022e-01]\n",
            " [-6.01744209e-01 -4.99447454e-02  5.54129685e-01]\n",
            " [-7.62431777e-01  2.65582568e-01  6.13630825e-01]\n",
            " [-1.10461186e+00 -5.98958239e-02  9.10475158e-01]\n",
            " [-1.20996657e+00  3.50146194e-01  6.30342883e-01]\n",
            " [-6.19018110e-01 -2.14215284e-01  1.45277566e-01]\n",
            " [-9.41472714e-03 -1.05566488e+00  1.36071932e-01]\n",
            " [-1.71860756e-01 -1.55818703e+00  8.86806343e-02]\n",
            " [-8.81502579e-02 -1.57009327e+00  9.07264112e-02]\n",
            " [-2.90794651e-01 -7.72552203e-01  8.40700424e-02]\n",
            " [-1.02094404e+00 -6.21133608e-01  2.14168141e-01]\n",
            " [-3.07063663e-01 -2.82570764e-01 -4.78574134e-01]\n",
            " [-4.94942337e-01  8.52748720e-01 -3.04677625e-01]\n",
            " [-1.03765886e+00  5.33123232e-01  4.55067514e-01]\n",
            " [-1.04154200e+00 -1.37443306e+00  6.61557127e-01]\n",
            " [-2.12215411e-01 -2.18445544e-01 -3.64684727e-01]\n",
            " [-4.07663270e-01 -1.32793708e+00 -1.49336169e-01]\n",
            " [-4.15205795e-01 -1.11893183e+00 -1.73032539e-01]\n",
            " [-7.26824199e-01  2.95129095e-02 -9.19419175e-03]\n",
            " [-4.84035680e-01 -9.88244311e-01 -3.23374942e-04]\n",
            " [ 1.11978573e-01 -2.02672239e+00 -4.51798132e-01]\n",
            " [-4.68127391e-01 -8.56438894e-01 -2.60503299e-01]\n",
            " [-3.07038311e-01 -1.83773242e-01 -3.62807806e-01]\n",
            " [-4.37453382e-01 -3.86855058e-01 -3.40130346e-01]\n",
            " [-7.48263976e-01 -1.54459896e-01  4.14431199e-02]\n",
            " [ 1.30421683e-01 -1.55429785e+00 -6.25543931e-01]\n",
            " [-4.95237620e-01 -6.02366792e-01 -3.30922423e-01]\n",
            " [-1.90390982e+00  8.84300368e-01 -3.53431274e-01]\n",
            " [-1.30958728e+00 -6.94110792e-01 -2.96133915e-01]\n",
            " [-2.22749179e+00  5.76238767e-01  5.21398994e-01]\n",
            " [-1.57444559e+00 -4.05123888e-02 -1.51361356e-03]\n",
            " [-1.96160452e+00  3.05677181e-01 -9.70160484e-03]\n",
            " [-2.73415911e+00  8.18042771e-01  9.16959409e-01]\n",
            " [-6.79190175e-01 -1.56697814e+00 -9.43340964e-01]\n",
            " [-2.36297394e+00  4.31944076e-01  7.68117337e-01]\n",
            " [-2.11834737e+00 -7.03496426e-01  5.00611532e-01]\n",
            " [-2.35949841e+00  1.93404094e+00  2.59179763e-02]\n",
            " [-1.58676474e+00  6.95452448e-01 -2.31699544e-01]\n",
            " [-1.80322070e+00 -4.18450841e-01  3.12218232e-02]\n",
            " [-2.06002137e+00  4.25325454e-01  1.02482624e-01]\n",
            " [-1.53226764e+00 -1.16312903e+00 -4.66288216e-01]\n",
            " [-1.72933112e+00 -4.40521417e-01 -6.86409896e-01]\n",
            " [-1.84342773e+00  6.79003765e-01 -4.47379487e-01]\n",
            " [-1.74434942e+00  2.55605483e-01 -1.18138081e-01]\n",
            " [-2.58810309e+00  2.56696025e+00  2.85077364e-01]\n",
            " [-3.36486016e+00  3.31859940e-02  1.01858542e+00]\n",
            " [-1.59249588e+00 -1.71235865e+00 -1.05381051e-02]\n",
            " [-2.28540568e+00  9.14532301e-01 -1.05358489e-01]\n",
            " [-1.37731471e+00 -5.78702460e-01 -8.65601212e-01]\n",
            " [-3.04676828e+00  4.23082278e-01  8.90196777e-01]\n",
            " [-1.70038156e+00 -4.87580913e-01 -2.37826814e-01]\n",
            " [-2.03623580e+00  1.01288540e+00 -3.36382839e-01]\n",
            " [-2.26091854e+00  1.00764842e+00  1.98645342e-01]\n",
            " [-1.59701991e+00 -3.24931905e-01 -4.33049650e-01]\n",
            " [-1.47590326e+00  5.44478564e-02 -6.45492793e-01]\n",
            " [-2.15661011e+00 -1.90647648e-01 -3.23414564e-01]\n",
            " [-2.22264648e+00  5.58392613e-01  2.98219856e-01]\n",
            " [-2.73339880e+00  2.60091075e-01  5.12369198e-01]\n",
            " [-2.63300106e+00  2.62759135e+00  2.51316559e-01]\n",
            " [-2.26676937e+00 -1.83102525e-01 -4.10539841e-01]\n",
            " [-1.61806075e+00 -3.06053905e-01 -3.66038829e-01]\n",
            " [-1.70672471e+00 -8.24370363e-01 -3.48296226e-01]\n",
            " [-3.10763873e+00  8.59133729e-01  4.41774467e-01]\n",
            " [-2.06764412e+00  1.06103513e+00 -9.80187074e-01]\n",
            " [-1.86937132e+00  4.10570911e-01 -5.85133642e-01]\n",
            " [-1.51467374e+00  7.09421155e-04 -9.01581348e-01]\n",
            " [-2.33088424e+00  6.67876544e-01 -3.09273410e-01]\n",
            " [-2.48907229e+00  6.07287362e-01 -5.40809267e-01]\n",
            " [-2.39787608e+00  6.80880780e-01 -4.12940868e-01]\n",
            " [-1.76385358e+00 -7.15581767e-01 -9.32261794e-01]\n",
            " [-2.54398085e+00  8.59737781e-01 -5.25122025e-01]\n",
            " [-2.52119151e+00  1.04097116e+00 -7.46945203e-01]\n",
            " [-2.41632657e+00  3.75860309e-01 -5.60076741e-01]\n",
            " [-2.15699365e+00 -9.12639025e-01 -4.85726541e-01]\n",
            " [-2.13265156e+00  2.53422932e-01 -6.71749648e-01]\n",
            " [-2.02270411e+00  9.95390463e-01 -1.23422985e+00]\n",
            " [-1.66924249e+00 -4.60582101e-02 -1.12765819e+00]]\n"
          ]
        }
      ],
      "source": [
        "print('PCAdata:', PCAdata)"
      ]
    },
    {
      "cell_type": "markdown",
      "metadata": {
        "id": "ZFrfRay2tA71"
      },
      "source": [
        "### Plotting out a scatter plot for Visualisation"
      ]
    },
    {
      "cell_type": "code",
      "execution_count": null,
      "metadata": {
        "pycharm": {
          "name": "#%%\n"
        },
        "id": "OfdR0f82tA71",
        "outputId": "1f730725-1c44-4cac-9da1-74bcc362daab"
      },
      "outputs": [
        {
          "data": {
            "text/plain": [
              "Text(0.5, 0.92, '3D scatter plot for the IrisDataSet after PCA')"
            ]
          },
          "execution_count": 19,
          "metadata": {},
          "output_type": "execute_result"
        },
        {
          "data": {
            "image/png": "[encoded data removed]",
            "text/plain": [
              "<Figure size 864x648 with 1 Axes>"
            ]
          },
          "metadata": {
            "needs_background": "light"
          },
          "output_type": "display_data"
        }
      ],
      "source": [
        "\n",
        "# Setting a larger size for easier viewing\n",
        "fig = plt.figure(figsize = (12, 9))\n",
        "ax = plt.axes(projection =\"3d\")\n",
        "# Plotting the datapoints\n",
        "ax.scatter3D(PCAdata[:, 0], PCAdata[:, 1], PCAdata[:, 2], color = \"green\")\n",
        "ax.set_xlabel('Principal Component A')\n",
        "ax.set_ylabel('Principal Component B')\n",
        "ax.set_zlabel('Principal Component C')\n",
        "plt.title(\"3D scatter plot for the IrisDataSet after PCA\")"
      ]
    },
    {
      "cell_type": "code",
      "execution_count": null,
      "metadata": {
        "pycharm": {
          "name": "#%%\n"
        },
        "id": "H2d35xGqtA71",
        "outputId": "62b36751-1e77-4cb2-cb92-c6148ae5885d"
      },
      "outputs": [
        {
          "name": "stdout",
          "output_type": "stream",
          "text": [
            "     Feature 1  Feature 2  Feature 3\n",
            "0     2.806935   0.504361   0.367918\n",
            "1     2.636694  -0.649623   0.512853\n",
            "2     2.869866  -0.319964   0.207486\n",
            "3     2.801549  -0.575435   0.192317\n",
            "4     2.870268   0.668229   0.164683\n",
            "..         ...        ...        ...\n",
            "145  -2.416327   0.375860  -0.560077\n",
            "146  -2.156994  -0.912639  -0.485727\n",
            "147  -2.132652   0.253423  -0.671750\n",
            "148  -2.022704   0.995390  -1.234230\n",
            "149  -1.669242  -0.046058  -1.127658\n",
            "\n",
            "[150 rows x 3 columns]\n"
          ]
        }
      ],
      "source": [
        "df = pd.DataFrame(data = PCAdata, columns = [\"Feature 1\", \"Feature 2\", \"Feature 3\"])\n",
        "print(df)"
      ]
    },
    {
      "cell_type": "code",
      "execution_count": null,
      "metadata": {
        "pycharm": {
          "name": "#%%\n"
        },
        "id": "l-2po6fZtA71",
        "outputId": "9d0975d2-eb23-4707-d5f5-19ab15da4ccb"
      },
      "outputs": [
        {
          "name": "stdout",
          "output_type": "stream",
          "text": [
            "     Feature 1  Feature 2  Feature 3\n",
            "0     2.806935   0.504361   0.367918\n",
            "1     2.636694  -0.649623   0.512853\n",
            "2     2.869866  -0.319964   0.207486\n",
            "3     2.801549  -0.575435   0.192317\n",
            "4     2.870268   0.668229   0.164683\n",
            "..         ...        ...        ...\n",
            "145  -2.416327   0.375860  -0.560077\n",
            "146  -2.156994  -0.912639  -0.485727\n",
            "147  -2.132652   0.253423  -0.671750\n",
            "148  -2.022704   0.995390  -1.234230\n",
            "149  -1.669242  -0.046058  -1.127658\n",
            "\n",
            "[150 rows x 3 columns]\n"
          ]
        }
      ],
      "source": [
        "finalDf = pd.concat([df, dataset.iloc[:,-1]], axis = 1)\n",
        "print(df)"
      ]
    },
    {
      "cell_type": "code",
      "execution_count": null,
      "metadata": {
        "pycharm": {
          "name": "#%%\n"
        },
        "id": "ltNgGaZStA71",
        "outputId": "ebfda06c-ab53-455f-f0b3-1470fe74627c"
      },
      "outputs": [
        {
          "name": "stdout",
          "output_type": "stream",
          "text": [
            "     Feature 1  Feature 2  Feature 3         Species\n",
            "0     2.806935   0.504361   0.367918     Iris-setosa\n",
            "1     2.636694  -0.649623   0.512853     Iris-setosa\n",
            "2     2.869866  -0.319964   0.207486     Iris-setosa\n",
            "3     2.801549  -0.575435   0.192317     Iris-setosa\n",
            "4     2.870268   0.668229   0.164683     Iris-setosa\n",
            "..         ...        ...        ...             ...\n",
            "145  -2.416327   0.375860  -0.560077  Iris-virginica\n",
            "146  -2.156994  -0.912639  -0.485727  Iris-virginica\n",
            "147  -2.132652   0.253423  -0.671750  Iris-virginica\n",
            "148  -2.022704   0.995390  -1.234230  Iris-virginica\n",
            "149  -1.669242  -0.046058  -1.127658  Iris-virginica\n",
            "\n",
            "[150 rows x 4 columns]\n"
          ]
        }
      ],
      "source": [
        "print(finalDf)"
      ]
    },
    {
      "cell_type": "code",
      "execution_count": null,
      "metadata": {
        "pycharm": {
          "name": "#%%\n"
        },
        "id": "eoSWNUMLtA72",
        "outputId": "17f0d0cf-9ead-4115-814d-6499592686b8"
      },
      "outputs": [
        {
          "data": {
            "text/plain": [
              "<matplotlib.legend.Legend at 0x254267f8e80>"
            ]
          },
          "execution_count": 23,
          "metadata": {},
          "output_type": "execute_result"
        },
        {
          "data": {
            "image/png": "[encoded data removed]",
            "text/plain": [
              "<Figure size 576x576 with 1 Axes>"
            ]
          },
          "metadata": {
            "needs_background": "light"
          },
          "output_type": "display_data"
        }
      ],
      "source": [
        "plot = plt.figure(figsize = (8,8))\n",
        "ax = plot.add_subplot(1,1,1)\n",
        "ax.set_xlabel('Principal Component A')\n",
        "ax.set_ylabel('Principal Component B')\n",
        "ax.set_title('2D Graph after PCA')\n",
        "\n",
        "IrisTypes = ['Iris-setosa', 'Iris-versicolor', 'Iris-virginica']\n",
        "colors = ['r', 'g', 'b']\n",
        "for IrisType, color in zip(IrisTypes,colors):\n",
        "    indicesToKeep = finalDf['Species'] == IrisType\n",
        "    ax.scatter(finalDf.loc[indicesToKeep, 'Feature 1']\n",
        "               , finalDf.loc[indicesToKeep, 'Feature 2']\n",
        "               , c = color\n",
        "               , s = 50)\n",
        "ax.legend(IrisTypes)\n"
      ]
    },
    {
      "cell_type": "markdown",
      "metadata": {
        "id": "VS6IJV_HtA72"
      },
      "source": [
        "### K Meams Cultering algorithm"
      ]
    },
    {
      "cell_type": "code",
      "execution_count": null,
      "metadata": {
        "id": "QVVg7F3ltA72",
        "outputId": "1ae8f577-fdee-4ff3-b66b-32cd9a28f182"
      },
      "outputs": [
        {
          "data": {
            "text/plain": [
              "array([[-1.71479731e+00, -8.97673879e-01,  1.02861128e+00,\n",
              "        -1.33679402e+00, -1.30859282e+00],\n",
              "       [-1.69177989e+00, -1.13920048e+00, -1.24540379e-01,\n",
              "        -1.33679402e+00, -1.30859282e+00],\n",
              "       [-1.66876248e+00, -1.38072709e+00,  3.36720285e-01,\n",
              "        -1.39346985e+00, -1.30859282e+00],\n",
              "       [-1.64574507e+00, -1.50149039e+00,  1.06089953e-01,\n",
              "        -1.28011819e+00, -1.30859282e+00],\n",
              "       [-1.62272765e+00, -1.01843718e+00,  1.25924161e+00,\n",
              "        -1.33679402e+00, -1.30859282e+00],\n",
              "       [-1.59971024e+00, -5.35383973e-01,  1.95113261e+00,\n",
              "        -1.16676652e+00, -1.04652483e+00],\n",
              "       [-1.57669283e+00, -1.50149039e+00,  7.97980949e-01,\n",
              "        -1.33679402e+00, -1.17755883e+00],\n",
              "       [-1.55367541e+00, -1.01843718e+00,  7.97980949e-01,\n",
              "        -1.28011819e+00, -1.30859282e+00],\n",
              "       [-1.53065800e+00, -1.74301699e+00, -3.55170711e-01,\n",
              "        -1.33679402e+00, -1.30859282e+00],\n",
              "       [-1.50764058e+00, -1.13920048e+00,  1.06089953e-01,\n",
              "        -1.28011819e+00, -1.43962681e+00],\n",
              "       [-1.48462317e+00, -5.35383973e-01,  1.48987194e+00,\n",
              "        -1.28011819e+00, -1.30859282e+00],\n",
              "       [-1.46160576e+00, -1.25996379e+00,  7.97980949e-01,\n",
              "        -1.22344235e+00, -1.30859282e+00],\n",
              "       [-1.43858834e+00, -1.25996379e+00, -1.24540379e-01,\n",
              "        -1.33679402e+00, -1.43962681e+00],\n",
              "       [-1.41557093e+00, -1.86378030e+00, -1.24540379e-01,\n",
              "        -1.50682152e+00, -1.43962681e+00],\n",
              "       [-1.39255352e+00, -5.23307643e-02,  2.18176294e+00,\n",
              "        -1.45014569e+00, -1.30859282e+00],\n",
              "       [-1.36953610e+00, -1.73094066e-01,  3.10428427e+00,\n",
              "        -1.28011819e+00, -1.04652483e+00],\n",
              "       [-1.34651869e+00, -5.35383973e-01,  1.95113261e+00,\n",
              "        -1.39346985e+00, -1.04652483e+00],\n",
              "       [-1.32350128e+00, -8.97673879e-01,  1.02861128e+00,\n",
              "        -1.33679402e+00, -1.17755883e+00],\n",
              "       [-1.30048386e+00, -1.73094066e-01,  1.72050228e+00,\n",
              "        -1.16676652e+00, -1.17755883e+00],\n",
              "       [-1.27746645e+00, -8.97673879e-01,  1.72050228e+00,\n",
              "        -1.28011819e+00, -1.17755883e+00],\n",
              "       [-1.25444904e+00, -5.35383973e-01,  7.97980949e-01,\n",
              "        -1.16676652e+00, -1.30859282e+00],\n",
              "       [-1.23143162e+00, -8.97673879e-01,  1.48987194e+00,\n",
              "        -1.28011819e+00, -1.04652483e+00],\n",
              "       [-1.20841421e+00, -1.50149039e+00,  1.25924161e+00,\n",
              "        -1.56349736e+00, -1.30859282e+00],\n",
              "       [-1.18539680e+00, -8.97673879e-01,  5.67350617e-01,\n",
              "        -1.16676652e+00, -9.15490838e-01],\n",
              "       [-1.16237938e+00, -1.25996379e+00,  7.97980949e-01,\n",
              "        -1.05341485e+00, -1.30859282e+00],\n",
              "       [-1.13936197e+00, -1.01843718e+00, -1.24540379e-01,\n",
              "        -1.22344235e+00, -1.30859282e+00],\n",
              "       [-1.11634456e+00, -1.01843718e+00,  7.97980949e-01,\n",
              "        -1.22344235e+00, -1.04652483e+00],\n",
              "       [-1.09332714e+00, -7.76910577e-01,  1.02861128e+00,\n",
              "        -1.28011819e+00, -1.30859282e+00],\n",
              "       [-1.07030973e+00, -7.76910577e-01,  7.97980949e-01,\n",
              "        -1.33679402e+00, -1.30859282e+00],\n",
              "       [-1.04729231e+00, -1.38072709e+00,  3.36720285e-01,\n",
              "        -1.22344235e+00, -1.30859282e+00],\n",
              "       [-1.02427490e+00, -1.25996379e+00,  1.06089953e-01,\n",
              "        -1.22344235e+00, -1.30859282e+00],\n",
              "       [-1.00125749e+00, -5.35383973e-01,  7.97980949e-01,\n",
              "        -1.28011819e+00, -1.04652483e+00],\n",
              "       [-9.78240074e-01, -7.76910577e-01,  2.41239327e+00,\n",
              "        -1.28011819e+00, -1.43962681e+00],\n",
              "       [-9.55222660e-01, -4.14620671e-01,  2.64302361e+00,\n",
              "        -1.33679402e+00, -1.30859282e+00],\n",
              "       [-9.32205247e-01, -1.13920048e+00,  1.06089953e-01,\n",
              "        -1.28011819e+00, -1.43962681e+00],\n",
              "       [-9.09187833e-01, -1.01843718e+00,  3.36720285e-01,\n",
              "        -1.45014569e+00, -1.30859282e+00],\n",
              "       [-8.86170420e-01, -4.14620671e-01,  1.02861128e+00,\n",
              "        -1.39346985e+00, -1.30859282e+00],\n",
              "       [-8.63153006e-01, -1.13920048e+00,  1.06089953e-01,\n",
              "        -1.28011819e+00, -1.43962681e+00],\n",
              "       [-8.40135593e-01, -1.74301699e+00, -1.24540379e-01,\n",
              "        -1.39346985e+00, -1.30859282e+00],\n",
              "       [-8.17118179e-01, -8.97673879e-01,  7.97980949e-01,\n",
              "        -1.28011819e+00, -1.30859282e+00],\n",
              "       [-7.94100766e-01, -1.01843718e+00,  1.02861128e+00,\n",
              "        -1.39346985e+00, -1.17755883e+00],\n",
              "       [-7.71083352e-01, -1.62225369e+00, -1.73895270e+00,\n",
              "        -1.39346985e+00, -1.17755883e+00],\n",
              "       [-7.48065939e-01, -1.74301699e+00,  3.36720285e-01,\n",
              "        -1.39346985e+00, -1.30859282e+00],\n",
              "       [-7.25048525e-01, -1.01843718e+00,  1.02861128e+00,\n",
              "        -1.22344235e+00, -7.84456844e-01],\n",
              "       [-7.02031112e-01, -8.97673879e-01,  1.72050228e+00,\n",
              "        -1.05341485e+00, -1.04652483e+00],\n",
              "       [-6.79013698e-01, -1.25996379e+00, -1.24540379e-01,\n",
              "        -1.33679402e+00, -1.17755883e+00],\n",
              "       [-6.55996285e-01, -8.97673879e-01,  1.72050228e+00,\n",
              "        -1.22344235e+00, -1.30859282e+00],\n",
              "       [-6.32978871e-01, -1.50149039e+00,  3.36720285e-01,\n",
              "        -1.33679402e+00, -1.30859282e+00],\n",
              "       [-6.09961458e-01, -6.56147275e-01,  1.48987194e+00,\n",
              "        -1.28011819e+00, -1.30859282e+00],\n",
              "       [-5.86944044e-01, -1.01843718e+00,  5.67350617e-01,\n",
              "        -1.33679402e+00, -1.30859282e+00],\n",
              "       [-5.63926631e-01,  1.39682886e+00,  3.36720285e-01,\n",
              "         5.33508524e-01,  2.63815108e-01],\n",
              "       [-5.40909217e-01,  6.72249049e-01,  3.36720285e-01,\n",
              "         4.20156854e-01,  3.94849102e-01],\n",
              "       [-5.17891804e-01,  1.27606556e+00,  1.06089953e-01,\n",
              "         6.46860193e-01,  3.94849102e-01],\n",
              "       [-4.94874390e-01, -4.14620671e-01, -1.73895270e+00,\n",
              "         1.36777681e-01,  1.32781114e-01],\n",
              "       [-4.71856977e-01,  7.93012351e-01, -5.85801043e-01,\n",
              "         4.76832689e-01,  3.94849102e-01],\n",
              "       [-4.48839563e-01, -1.73094066e-01, -5.85801043e-01,\n",
              "         4.20156854e-01,  1.32781114e-01],\n",
              "       [-4.25822150e-01,  5.51485746e-01,  5.67350617e-01,\n",
              "         5.33508524e-01,  5.25883096e-01],\n",
              "       [-4.02804736e-01, -1.13920048e+00, -1.50832237e+00,\n",
              "        -2.59953162e-01, -2.60320868e-01],\n",
              "       [-3.79787323e-01,  9.13775653e-01, -3.55170711e-01,\n",
              "         4.76832689e-01,  1.32781114e-01],\n",
              "       [-3.56769909e-01, -7.76910577e-01, -8.16431375e-01,\n",
              "         8.01018463e-02,  2.63815108e-01],\n",
              "       [-3.33752496e-01, -1.01843718e+00, -2.43084370e+00,\n",
              "        -1.46601492e-01, -2.60320868e-01],\n",
              "       [-3.10735082e-01,  6.84325379e-02, -1.24540379e-01,\n",
              "         2.50129350e-01,  3.94849102e-01],\n",
              "       [-2.87717669e-01,  1.89195840e-01, -1.96958304e+00,\n",
              "         1.36777681e-01, -2.60320868e-01],\n",
              "       [-2.64700255e-01,  3.09959142e-01, -3.55170711e-01,\n",
              "         5.33508524e-01,  2.63815108e-01],\n",
              "       [-2.41682842e-01, -2.93857369e-01, -3.55170711e-01,\n",
              "        -8.99256577e-02,  1.32781114e-01],\n",
              "       [-2.18665428e-01,  1.03453895e+00,  1.06089953e-01,\n",
              "         3.63481020e-01,  2.63815108e-01],\n",
              "       [-1.95648015e-01, -2.93857369e-01, -1.24540379e-01,\n",
              "         4.20156854e-01,  3.94849102e-01],\n",
              "       [-1.72630601e-01, -5.23307643e-02, -8.16431375e-01,\n",
              "         1.93453516e-01, -2.60320868e-01],\n",
              "       [-1.49613188e-01,  4.30722444e-01, -1.96958304e+00,\n",
              "         4.20156854e-01,  3.94849102e-01],\n",
              "       [-1.26595774e-01, -2.93857369e-01, -1.27769204e+00,\n",
              "         8.01018463e-02, -1.29286874e-01],\n",
              "       [-1.03578361e-01,  6.84325379e-02,  3.36720285e-01,\n",
              "         5.90184358e-01,  7.87951084e-01],\n",
              "       [-8.05609473e-02,  3.09959142e-01, -5.85801043e-01,\n",
              "         1.36777681e-01,  1.32781114e-01],\n",
              "       [-5.75435338e-02,  5.51485746e-01, -1.27769204e+00,\n",
              "         6.46860193e-01,  3.94849102e-01],\n",
              "       [-3.45261203e-02,  3.09959142e-01, -5.85801043e-01,\n",
              "         5.33508524e-01,  1.74711992e-03],\n",
              "       [-1.15087068e-02,  6.72249049e-01, -3.55170711e-01,\n",
              "         3.06805185e-01,  1.32781114e-01],\n",
              "       [ 1.15087068e-02,  9.13775653e-01, -1.24540379e-01,\n",
              "         3.63481020e-01,  2.63815108e-01],\n",
              "       [ 3.45261203e-02,  1.15530226e+00, -5.85801043e-01,\n",
              "         5.90184358e-01,  2.63815108e-01],\n",
              "       [ 5.75435338e-02,  1.03453895e+00, -1.24540379e-01,\n",
              "         7.03536028e-01,  6.56917090e-01],\n",
              "       [ 8.05609473e-02,  1.89195840e-01, -3.55170711e-01,\n",
              "         4.20156854e-01,  3.94849102e-01],\n",
              "       [ 1.03578361e-01, -1.73094066e-01, -1.04706171e+00,\n",
              "        -1.46601492e-01, -2.60320868e-01],\n",
              "       [ 1.26595774e-01, -4.14620671e-01, -1.50832237e+00,\n",
              "         2.34260117e-02, -1.29286874e-01],\n",
              "       [ 1.49613188e-01, -4.14620671e-01, -1.50832237e+00,\n",
              "        -3.32498230e-02, -2.60320868e-01],\n",
              "       [ 1.72630601e-01, -5.23307643e-02, -8.16431375e-01,\n",
              "         8.01018463e-02,  1.74711992e-03],\n",
              "       [ 1.95648015e-01,  1.89195840e-01, -8.16431375e-01,\n",
              "         7.60211862e-01,  5.25883096e-01],\n",
              "       [ 2.18665428e-01, -5.35383973e-01, -1.24540379e-01,\n",
              "         4.20156854e-01,  3.94849102e-01],\n",
              "       [ 2.41682842e-01,  1.89195840e-01,  7.97980949e-01,\n",
              "         4.20156854e-01,  5.25883096e-01],\n",
              "       [ 2.64700255e-01,  1.03453895e+00,  1.06089953e-01,\n",
              "         5.33508524e-01,  3.94849102e-01],\n",
              "       [ 2.87717669e-01,  5.51485746e-01, -1.73895270e+00,\n",
              "         3.63481020e-01,  1.32781114e-01],\n",
              "       [ 3.10735082e-01, -2.93857369e-01, -1.24540379e-01,\n",
              "         1.93453516e-01,  1.32781114e-01],\n",
              "       [ 3.33752496e-01, -4.14620671e-01, -1.27769204e+00,\n",
              "         1.36777681e-01,  1.32781114e-01],\n",
              "       [ 3.56769909e-01, -4.14620671e-01, -1.04706171e+00,\n",
              "         3.63481020e-01,  1.74711992e-03],\n",
              "       [ 3.79787323e-01,  3.09959142e-01, -1.24540379e-01,\n",
              "         4.76832689e-01,  2.63815108e-01],\n",
              "       [ 4.02804736e-01, -5.23307643e-02, -1.04706171e+00,\n",
              "         1.36777681e-01,  1.74711992e-03],\n",
              "       [ 4.25822150e-01, -1.01843718e+00, -1.73895270e+00,\n",
              "        -2.59953162e-01, -2.60320868e-01],\n",
              "       [ 4.48839563e-01, -2.93857369e-01, -8.16431375e-01,\n",
              "         2.50129350e-01,  1.32781114e-01],\n",
              "       [ 4.71856977e-01, -1.73094066e-01, -1.24540379e-01,\n",
              "         2.50129350e-01,  1.74711992e-03],\n",
              "       [ 4.94874390e-01, -1.73094066e-01, -3.55170711e-01,\n",
              "         2.50129350e-01,  1.32781114e-01],\n",
              "       [ 5.17891804e-01,  4.30722444e-01, -3.55170711e-01,\n",
              "         3.06805185e-01,  1.32781114e-01],\n",
              "       [ 5.40909217e-01, -8.97673879e-01, -1.27769204e+00,\n",
              "        -4.29980666e-01, -1.29286874e-01],\n",
              "       [ 5.63926631e-01, -1.73094066e-01, -5.85801043e-01,\n",
              "         1.93453516e-01,  1.32781114e-01],\n",
              "       [ 5.86944044e-01,  5.51485746e-01,  5.67350617e-01,\n",
              "         1.27029437e+00,  1.70518904e+00],\n",
              "       [ 6.09961458e-01, -5.23307643e-02, -8.16431375e-01,\n",
              "         7.60211862e-01,  9.18985077e-01],\n",
              "       [ 6.32978871e-01,  1.51759216e+00, -1.24540379e-01,\n",
              "         1.21361854e+00,  1.18105307e+00],\n",
              "       [ 6.55996285e-01,  5.51485746e-01, -3.55170711e-01,\n",
              "         1.04359104e+00,  7.87951084e-01],\n",
              "       [ 6.79013698e-01,  7.93012351e-01, -1.24540379e-01,\n",
              "         1.15694270e+00,  1.31208706e+00],\n",
              "       [ 7.02031112e-01,  2.12140867e+00, -1.24540379e-01,\n",
              "         1.61034938e+00,  1.18105307e+00],\n",
              "       [ 7.25048525e-01, -1.13920048e+00, -1.27769204e+00,\n",
              "         4.20156854e-01,  6.56917090e-01],\n",
              "       [ 7.48065939e-01,  1.75911877e+00, -3.55170711e-01,\n",
              "         1.44032188e+00,  7.87951084e-01],\n",
              "       [ 7.71083352e-01,  1.03453895e+00, -1.27769204e+00,\n",
              "         1.15694270e+00,  7.87951084e-01],\n",
              "       [ 7.94100766e-01,  1.63835547e+00,  1.25924161e+00,\n",
              "         1.32697021e+00,  1.70518904e+00],\n",
              "       [ 8.17118179e-01,  7.93012351e-01,  3.36720285e-01,\n",
              "         7.60211862e-01,  1.05001907e+00],\n",
              "       [ 8.40135593e-01,  6.72249049e-01, -8.16431375e-01,\n",
              "         8.73563532e-01,  9.18985077e-01],\n",
              "       [ 8.63153006e-01,  1.15530226e+00, -1.24540379e-01,\n",
              "         9.86915201e-01,  1.18105307e+00],\n",
              "       [ 8.86170420e-01, -1.73094066e-01, -1.27769204e+00,\n",
              "         7.03536028e-01,  1.05001907e+00],\n",
              "       [ 9.09187833e-01, -5.23307643e-02, -5.85801043e-01,\n",
              "         7.60211862e-01,  1.57415505e+00],\n",
              "       [ 9.32205247e-01,  6.72249049e-01,  3.36720285e-01,\n",
              "         8.73563532e-01,  1.44312105e+00],\n",
              "       [ 9.55222660e-01,  7.93012351e-01, -1.24540379e-01,\n",
              "         9.86915201e-01,  7.87951084e-01],\n",
              "       [ 9.78240074e-01,  2.24217198e+00,  1.72050228e+00,\n",
              "         1.66702522e+00,  1.31208706e+00],\n",
              "       [ 1.00125749e+00,  2.24217198e+00, -1.04706171e+00,\n",
              "         1.78037689e+00,  1.44312105e+00],\n",
              "       [ 1.02427490e+00,  1.89195840e-01, -1.96958304e+00,\n",
              "         7.03536028e-01,  3.94849102e-01],\n",
              "       [ 1.04729231e+00,  1.27606556e+00,  3.36720285e-01,\n",
              "         1.10026687e+00,  1.44312105e+00],\n",
              "       [ 1.07030973e+00, -2.93857369e-01, -5.85801043e-01,\n",
              "         6.46860193e-01,  1.05001907e+00],\n",
              "       [ 1.09332714e+00,  2.24217198e+00, -5.85801043e-01,\n",
              "         1.66702522e+00,  1.05001907e+00],\n",
              "       [ 1.11634456e+00,  5.51485746e-01, -8.16431375e-01,\n",
              "         6.46860193e-01,  7.87951084e-01],\n",
              "       [ 1.13936197e+00,  1.03453895e+00,  5.67350617e-01,\n",
              "         1.10026687e+00,  1.18105307e+00],\n",
              "       [ 1.16237938e+00,  1.63835547e+00,  3.36720285e-01,\n",
              "         1.27029437e+00,  7.87951084e-01],\n",
              "       [ 1.18539680e+00,  4.30722444e-01, -5.85801043e-01,\n",
              "         5.90184358e-01,  7.87951084e-01],\n",
              "       [ 1.20841421e+00,  3.09959142e-01, -1.24540379e-01,\n",
              "         6.46860193e-01,  7.87951084e-01],\n",
              "       [ 1.23143162e+00,  6.72249049e-01, -5.85801043e-01,\n",
              "         1.04359104e+00,  1.18105307e+00],\n",
              "       [ 1.25444904e+00,  1.63835547e+00, -1.24540379e-01,\n",
              "         1.15694270e+00,  5.25883096e-01],\n",
              "       [ 1.27746645e+00,  1.87988207e+00, -5.85801043e-01,\n",
              "         1.32697021e+00,  9.18985077e-01],\n",
              "       [ 1.30048386e+00,  2.48369858e+00,  1.72050228e+00,\n",
              "         1.49699771e+00,  1.05001907e+00],\n",
              "       [ 1.32350128e+00,  6.72249049e-01, -5.85801043e-01,\n",
              "         1.04359104e+00,  1.31208706e+00],\n",
              "       [ 1.34651869e+00,  5.51485746e-01, -5.85801043e-01,\n",
              "         7.60211862e-01,  3.94849102e-01],\n",
              "       [ 1.36953610e+00,  3.09959142e-01, -1.04706171e+00,\n",
              "         1.04359104e+00,  2.63815108e-01],\n",
              "       [ 1.39255352e+00,  2.24217198e+00, -1.24540379e-01,\n",
              "         1.32697021e+00,  1.44312105e+00],\n",
              "       [ 1.41557093e+00,  5.51485746e-01,  7.97980949e-01,\n",
              "         1.04359104e+00,  1.57415505e+00],\n",
              "       [ 1.43858834e+00,  6.72249049e-01,  1.06089953e-01,\n",
              "         9.86915201e-01,  7.87951084e-01],\n",
              "       [ 1.46160576e+00,  1.89195840e-01, -1.24540379e-01,\n",
              "         5.90184358e-01,  7.87951084e-01],\n",
              "       [ 1.48462317e+00,  1.27606556e+00,  1.06089953e-01,\n",
              "         9.30239366e-01,  1.18105307e+00],\n",
              "       [ 1.50764058e+00,  1.03453895e+00,  1.06089953e-01,\n",
              "         1.04359104e+00,  1.57415505e+00],\n",
              "       [ 1.53065800e+00,  1.27606556e+00,  1.06089953e-01,\n",
              "         7.60211862e-01,  1.44312105e+00],\n",
              "       [ 1.55367541e+00, -5.23307643e-02, -8.16431375e-01,\n",
              "         7.60211862e-01,  9.18985077e-01],\n",
              "       [ 1.57669283e+00,  1.15530226e+00,  3.36720285e-01,\n",
              "         1.21361854e+00,  1.44312105e+00],\n",
              "       [ 1.59971024e+00,  1.03453895e+00,  5.67350617e-01,\n",
              "         1.10026687e+00,  1.70518904e+00],\n",
              "       [ 1.62272765e+00,  1.03453895e+00, -1.24540379e-01,\n",
              "         8.16887697e-01,  1.44312105e+00],\n",
              "       [ 1.64574507e+00,  5.51485746e-01, -1.27769204e+00,\n",
              "         7.03536028e-01,  9.18985077e-01],\n",
              "       [ 1.66876248e+00,  7.93012351e-01, -1.24540379e-01,\n",
              "         8.16887697e-01,  1.05001907e+00],\n",
              "       [ 1.69177989e+00,  4.30722444e-01,  7.97980949e-01,\n",
              "         9.30239366e-01,  1.44312105e+00],\n",
              "       [ 1.71479731e+00,  6.84325379e-02, -1.24540379e-01,\n",
              "         7.60211862e-01,  7.87951084e-01]])"
            ]
          },
          "execution_count": 24,
          "metadata": {},
          "output_type": "execute_result"
        }
      ],
      "source": [
        "data = x.values\n",
        "data"
      ]
    },
    {
      "cell_type": "code",
      "execution_count": null,
      "metadata": {
        "id": "WsVryJXmtA72"
      },
      "outputs": [],
      "source": [
        "def kmeans(x, k, num_iterations=100):\n",
        "    # Randomly initialize centroids\n",
        "    centroids = x[np.random.choice(range(len(x)), k, replace=False)]\n",
        "\n",
        "    for _ in range(num_iterations):\n",
        "        # Assign each data point to the nearest centroid\n",
        "        distances = np.linalg.norm(x[:, np.newaxis] - centroids, axis=2)\n",
        "        cluster = np.argmin(distances, axis=1)\n",
        "\n",
        "        # Update centroids\n",
        "        new_centroids = np.array([x[cluster == i].mean(axis=0) for i in range(k)])\n",
        "\n",
        "        # Check convergence\n",
        "        if np.all(centroids == new_centroids):\n",
        "            break\n",
        "\n",
        "        centroids = new_centroids\n",
        "\n",
        "    return cluster"
      ]
    },
    {
      "cell_type": "markdown",
      "metadata": {
        "id": "W25pJpy-tA72"
      },
      "source": [
        "### Number of clusters"
      ]
    },
    {
      "cell_type": "code",
      "execution_count": null,
      "metadata": {
        "id": "Q2vHYQCNtA73"
      },
      "outputs": [],
      "source": [
        "k = 3  \n",
        "cluster = kmeans(data, k)"
      ]
    },
    {
      "cell_type": "markdown",
      "metadata": {
        "id": "3DJ3AAd4tA73"
      },
      "source": [
        "### Ploting the Kmean"
      ]
    },
    {
      "cell_type": "code",
      "execution_count": null,
      "metadata": {
        "id": "pz7QYliotA74",
        "outputId": "d638702d-b69d-4750-da4d-5143a636d1e9"
      },
      "outputs": [
        {
          "data": {
            "text/plain": [
              "Text(0.5, 1.0, ' Output')"
            ]
          },
          "execution_count": 27,
          "metadata": {},
          "output_type": "execute_result"
        },
        {
          "data": {
            "image/png": "[encoded data removed]",
            "text/plain": [
              "<Figure size 1296x576 with 2 Axes>"
            ]
          },
          "metadata": {
            "needs_background": "light"
          },
          "output_type": "display_data"
        }
      ],
      "source": [
        "fig, axs = plt.subplots(1, 2, figsize=(18, 8))\n",
        "axs[0].scatter(PCAdata[:, 0], PCAdata[:, 1], c=cluster)\n",
        "axs[0].set_xlabel('Principal Component A')\n",
        "axs[0].set_ylabel('Principal Component B')\n",
        "axs[0].set_title('Cluster Output')\n",
        "\n",
        "axs[1].scatter(PCAdata[:, 0], PCAdata[:, 1])\n",
        "axs[1].set_title(' Output')\n"
      ]
    },
    {
      "cell_type": "code",
      "execution_count": null,
      "metadata": {
        "id": "At9W3XUPtA74"
      },
      "outputs": [],
      "source": []
    }
  ],
  "metadata": {
    "kernelspec": {
      "display_name": "Python 3 (ipykernel)",
      "language": "python",
      "name": "python3"
    },
    "language_info": {
      "codemirror_mode": {
        "name": "ipython",
        "version": 3
      },
      "file_extension": ".py",
      "mimetype": "text/x-python",
      "name": "python",
      "nbconvert_exporter": "python",
      "pygments_lexer": "ipython3",
      "version": "3.9.12"
    },
    "colab": {
      "provenance": [],
      "include_colab_link": true
    }
  },
  "nbformat": 4,
  "nbformat_minor": 0
}